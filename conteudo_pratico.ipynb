{
  "cells": [
    {
      "cell_type": "markdown",
      "id": "e3f369cc-1d36-4001-a791-cce5e426eaaf",
      "metadata": {
        "id": "e3f369cc-1d36-4001-a791-cce5e426eaaf"
      },
      "source": [
        "# Atividades"
      ]
    },
    {
      "cell_type": "markdown",
      "id": "d203e0c5-f7f1-4629-bd12-69ce36061e60",
      "metadata": {
        "id": "d203e0c5-f7f1-4629-bd12-69ce36061e60"
      },
      "source": [
        "## Atividade 1: Classificar Nota\n",
        "\n",
        "1. Crie uma variável nota_final e atribua um valor numérico a ela.\n",
        "\n",
        "2. Use uma estrutura condicional (if/elif/else) para verificar a nota e imprimir a classificação do aluno:\n",
        "\n",
        "3. Se a nota for maior ou igual a 7, imprima \"Aprovado\".\n",
        "\n",
        "4. Se a nota for maior ou igual a 5 e menor que 7, imprima \"Recuperação\".\n",
        "\n",
        "5. Caso contrário, imprima \"Reprovado\".\n",
        "\n",
        "6. Para o Aluno em Recuperação, atribua uma variável com a nota da recuperação\n",
        "\n",
        "7. Se a nota da recuperação for maior ou igual a 8, imprima aprovado, senão reprovado"
      ]
    },
    {
      "cell_type": "code",
      "execution_count": 16,
      "id": "722203f1-6b69-4274-9502-f599524af60f",
      "metadata": {
        "colab": {
          "base_uri": "https://localhost:8080/"
        },
        "id": "722203f1-6b69-4274-9502-f599524af60f",
        "outputId": "942afaad-fb04-4911-c08a-1b5e6483c5e9"
      },
      "outputs": [
        {
          "output_type": "stream",
          "name": "stdout",
          "text": [
            "Recuperação\n",
            "Aprovado\n"
          ]
        }
      ],
      "source": [
        "# Escreva o código aqui\n",
        "nota_final = 6\n",
        "\n",
        "\n",
        "if nota_final >= 7:\n",
        "  print(\"Aprovado\")\n",
        "elif nota_final >= 5 and nota_final <7:\n",
        "  print(\"Recuperação\")\n",
        "  nota_recuperacao = 8\n",
        "  if nota_recuperacao >= 8:\n",
        "    print(\"Aprovado\")\n",
        "  else:\n",
        "    print(\"Reprovado\")\n",
        "else:\n",
        "  print(\"Reprovado\")"
      ]
    },
    {
      "cell_type": "markdown",
      "source": [
        "Atividade 2.1: Classificar a sua nota na disciplina\n",
        "\n",
        "1. Criar variável com as notas dos trabalhos\n",
        "2. Criar variável da nota do trabalho final\n",
        "3. Somar todas as notas dos trabalhos\n",
        "4. Imprimir a nota com a média ponderada das notas 40% atividades e 60% trabalho\n"
      ],
      "metadata": {
        "id": "O5XN5KnBep9t"
      },
      "id": "O5XN5KnBep9t"
    },
    {
      "cell_type": "code",
      "source": [
        "notas_trabalhos = [9,9, 9, 9,9,9]\n",
        "trabalho_final = 9\n",
        "soma = 0\n",
        "media = 0\n",
        "\n",
        "for nota in notas_trabalhos:\n",
        "  soma = (soma + nota)\n",
        "\n",
        "media = ((soma / len(notas_trabalhos)) * 0.4) + (trabalho_final * 0.60)\n",
        "print(media)\n",
        "\n",
        "if media >= 7:\n",
        "  print(f\"Aprovado:{media}\" )\n",
        "else:\n",
        "  print(\"Reprovado\")"
      ],
      "metadata": {
        "colab": {
          "base_uri": "https://localhost:8080/"
        },
        "id": "2ixXPNqLeojt",
        "outputId": "ebf873b9-b180-495b-92c8-ecb5fa58ac40"
      },
      "id": "2ixXPNqLeojt",
      "execution_count": 33,
      "outputs": [
        {
          "output_type": "stream",
          "name": "stdout",
          "text": [
            "9.0\n",
            "Aprovado:9.0\n"
          ]
        }
      ]
    },
    {
      "cell_type": "markdown",
      "id": "12535d27-3479-4b06-a5ba-590a9d607227",
      "metadata": {
        "id": "12535d27-3479-4b06-a5ba-590a9d607227"
      },
      "source": [
        "## Atividade 2: Processando lista de frutas\n",
        "\n",
        "1. Crie uma lista chamada frutas com pelo menos 5 nomes de frutas.\n",
        "\n",
        "2. Use um laço de repetição for para iterar sobre a lista.\n",
        "\n",
        "3. Dentro do loop, use uma condicional (if) para verificar se o nome da fruta é \"morango\".\n",
        "\n",
        "4. Se for \"morango\", imprima \"Eu amo morangos!\". Se não for, imprima o nome da fruta."
      ]
    },
    {
      "cell_type": "code",
      "execution_count": 34,
      "id": "4d3c4149-7573-4a30-961a-f0045a7178d3",
      "metadata": {
        "colab": {
          "base_uri": "https://localhost:8080/"
        },
        "id": "4d3c4149-7573-4a30-961a-f0045a7178d3",
        "outputId": "ea88e306-8f24-4f07-9ad7-b337b15e347a"
      },
      "outputs": [
        {
          "output_type": "stream",
          "name": "stdout",
          "text": [
            "banana\n",
            "goiaba\n",
            "Eu amo morangos!\n",
            "manga\n",
            "maracuja\n"
          ]
        }
      ],
      "source": [
        "# Escreva o código aqui\n",
        "frutas = [\"banana\",\"goiaba\",\"morango\",\"manga\",\"maracuja\"]\n",
        "\n",
        "for fruta in frutas:\n",
        "  if fruta == \"morango\":\n",
        "    print(\"Eu amo morangos!\")\n",
        "  else:\n",
        "    print(fruta)"
      ]
    },
    {
      "cell_type": "code",
      "source": [
        "# Escreva o código aqui\n",
        "frutas = [\"banana\",\"goiaba\",\"morango\",\"manga\",\"maracuja\",\"80\", \"90\", \"100\", \"10.1\"]\n",
        "\n",
        "for fruta in frutas:\n",
        "  if fruta.isdigit():\n",
        "    print(\"É um número!\")\n",
        "  if fruta == \"morango\":\n",
        "    print(\"Eu amo morangos!\")\n",
        "  else:\n",
        "    print(fruta)"
      ],
      "metadata": {
        "colab": {
          "base_uri": "https://localhost:8080/"
        },
        "id": "Gm99ErdB4M2J",
        "outputId": "78dee79e-ec57-4e7b-c66e-eb5804091af4"
      },
      "id": "Gm99ErdB4M2J",
      "execution_count": 41,
      "outputs": [
        {
          "output_type": "stream",
          "name": "stdout",
          "text": [
            "banana\n",
            "goiaba\n",
            "Eu amo morangos!\n",
            "manga\n",
            "maracuja\n",
            "É um número!\n",
            "80\n",
            "É um número!\n",
            "90\n",
            "É um número!\n",
            "100\n",
            "10.1\n"
          ]
        }
      ]
    },
    {
      "cell_type": "code",
      "source": [
        "texto = \"Sejam bem vindos ao curso de lógica de programação da facens\"\n",
        "eh_facens = texto.find(\"facens\") # Busca texto\n",
        "\n",
        "print(eh_facens)\n",
        "\n",
        "texto_lower = texto.lower() # Letras minúsculas\n",
        "print(texto_lower)\n",
        "\n",
        "texto_upper = texto.upper() # Letras minúsculas\n",
        "print(texto_upper)\n",
        "\n",
        "texto_separado = texto.split(\" \")\n",
        "print(texto_separado)"
      ],
      "metadata": {
        "colab": {
          "base_uri": "https://localhost:8080/"
        },
        "id": "xaa2kx8X6Fbh",
        "outputId": "3875855d-edfc-4438-9cd4-cf404687dafe"
      },
      "id": "xaa2kx8X6Fbh",
      "execution_count": 40,
      "outputs": [
        {
          "output_type": "stream",
          "name": "stdout",
          "text": [
            "54\n",
            "sejam bem vindos ao curso de lógica de programação da facens\n",
            "SEJAM BEM VINDOS AO CURSO DE LÓGICA DE PROGRAMAÇÃO DA FACENS\n",
            "['Sejam', 'bem', 'vindos', 'ao', 'curso', 'de', 'lógica', 'de', 'programação', 'da', 'facens']\n"
          ]
        }
      ]
    },
    {
      "cell_type": "markdown",
      "id": "f1d4cb13-a84d-43b8-87e4-dcf1e04a600d",
      "metadata": {
        "id": "f1d4cb13-a84d-43b8-87e4-dcf1e04a600d"
      },
      "source": [
        "## Atividade 3: Contar Vogais em uma Frase\n",
        "\n",
        "1. Crie uma variável frase e atribua a ela uma frase de sua escolha.\n",
        "\n",
        "2. Crie uma variável contador_vogais e inicialize-a com 0.\n",
        "\n",
        "3. Defina uma lista ou string com todas as vogais (vogais = \"aeiouAEIOU\").\n",
        "\n",
        "4. Use um laço de repetição for para percorrer cada caractere da frase.\n",
        "\n",
        "5. Dentro do loop, use uma condicional (if) para verificar se o caractere atual está presente na lista de vogais.\n",
        "\n",
        "6. Se estiver, incremente contador_vogais em 1.\n",
        "\n",
        "7. Após o loop, imprima a frase e o total de vogais encontradas."
      ]
    },
    {
      "cell_type": "code",
      "execution_count": 46,
      "id": "422825e8-f030-42ac-b23e-e98bed85b88c",
      "metadata": {
        "colab": {
          "base_uri": "https://localhost:8080/"
        },
        "id": "422825e8-f030-42ac-b23e-e98bed85b88c",
        "outputId": "f8584661-4342-4d49-a5c2-6ca77fd0b6b4"
      },
      "outputs": [
        {
          "output_type": "stream",
          "name": "stdout",
          "text": [
            "Eu sou de Sorocaba\n",
            "total vogais 4\n"
          ]
        }
      ],
      "source": [
        "# Escreva o código aqui\n",
        "frase = \"Eu sou de Sorocaba\"\n",
        "contador_vogais = 0\n",
        "vogais = [\"a\",\"e\",\"i\",\"o\",\"u\"]\n",
        "for vogal in vogais:\n",
        "  if vogal in frase:\n",
        "   contador_vogais = contador_vogais + 1\n",
        "print (frase)\n",
        "print (\"total vogais\", contador_vogais)\n",
        ""
      ]
    },
    {
      "cell_type": "markdown",
      "id": "7bb379d8-8c8f-4ef5-90f3-0e957419722e",
      "metadata": {
        "id": "7bb379d8-8c8f-4ef5-90f3-0e957419722e"
      },
      "source": [
        "## Atividade 4: Criar um Dicionário de Produtos\n",
        "\n",
        "1. Crie um dicionário chamado produtos onde as chaves são os nomes dos produtos e os valores são outros dicionários com as chaves \"preço\" e \"em_estoque\" (com valores numéricos e booleanos, respectivamente). Adicione pelo menos 3 produtos.\n",
        "\n",
        "2. Exemplo: {'camiseta': {'preço': 50, 'em_estoque': True}}\n",
        "\n",
        "3. Use um laço de repetição for para percorrer os itens do dicionário de produtos.\n",
        "\n",
        "4. Dentro do loop, imprima o nome do produto e seu preço.\n",
        "\n",
        "5. Adicione uma condicional (if) para verificar se o produto está em estoque. Se não estiver, imprima \"Produto fora de estoque\"."
      ]
    },
    {
      "cell_type": "code",
      "execution_count": 60,
      "id": "16989dba-bbd1-49c8-89de-8972538af5b3",
      "metadata": {
        "colab": {
          "base_uri": "https://localhost:8080/"
        },
        "id": "16989dba-bbd1-49c8-89de-8972538af5b3",
        "outputId": "0b9653cd-dced-47b9-bda2-06ca1b90b03a"
      },
      "outputs": [
        {
          "output_type": "stream",
          "name": "stdout",
          "text": [
            "camiseta\n",
            "50\n",
            "Em estoque\n",
            "calca\n",
            "100\n",
            "Fora estoque\n",
            "sapato\n",
            "150\n",
            "Em estoque\n",
            "Produto de maior valor: sapato\n",
            "Maior valor: 150\n"
          ]
        }
      ],
      "source": [
        "# Escreva o código aqui\n",
        "\n",
        "produtos = {\n",
        "    'camiseta': {\n",
        "        'preco': 50,\n",
        "        'em_estoque': True\n",
        "        },\n",
        "    'calca': {\n",
        "        'preco': 100,\n",
        "        'em_estoque': False\n",
        "        },\n",
        "    'sapato': {\n",
        "        'preco': 150,\n",
        "        'em_estoque': True\n",
        "        }\n",
        "\n",
        "    }\n",
        "\n",
        "for produto,dados_produto in produtos.items():\n",
        "  print(produto)\n",
        "  print(dados_produto['preco'])\n",
        "\n",
        "  if dados_produto['em_estoque']:\n",
        "    print(\"Em estoque\")\n",
        "  else:\n",
        "    print(\"Fora estoque\")\n",
        "\n",
        "# Produto com maior preço\n",
        "maior_valor = 0\n",
        "produto_maior_valor = \"\"\n",
        "for produto,dados_produto in produtos.items():\n",
        "  if dados_produto[\"preco\"] > maior_valor:\n",
        "    maior_valor = dados_produto[\"preco\"]\n",
        "    produto_maior_valor = str(produto)\n",
        "\n",
        "print(\"Produto de maior valor: \" + produto_maior_valor)\n",
        "print(\"Maior valor: \" + str(maior_valor))\n"
      ]
    },
    {
      "cell_type": "markdown",
      "id": "abcc39d8-e96a-44dd-b108-df573032cb61",
      "metadata": {
        "id": "abcc39d8-e96a-44dd-b108-df573032cb61"
      },
      "source": [
        "## Atividade 5: Análise de Vendas de Produtos\n",
        "\n",
        "1. Crie uma lista chamada registros_vendas, onde cada item da lista é um dicionário representando uma venda. Cada dicionário deve ter as chaves \"produto\", \"quantidade\" e \"valor_unitario\". Adicione pelo menos 5 registros de vendas.\n",
        "\n",
        "2. Crie uma variável vendas_totais e inicialize-a com 0.\n",
        "\n",
        "3. Crie uma variável produtos_mais_vendidos como um dicionário vazio.\n",
        "\n",
        "4. Use um laço de repetição for para percorrer a lista registros_vendas.\n",
        "\n",
        "5. Dentro do loop, calcule o valor total de cada venda (quantidade * valor_unitario) e adicione-o a vendas_totais.\n",
        "\n",
        "6. Use um condicional para verificar se o produto da venda já existe no dicionário produtos_mais_vendidos. Se sim, adicione a quantidade vendida. Se não, adicione o produto como uma nova chave com a quantidade atual.\n",
        "\n",
        "7. Após o loop, imprima o valor total de todas as vendas e o dicionário produtos_mais_vendidos para ver o total de unidades vendidas por produto."
      ]
    },
    {
      "cell_type": "code",
      "execution_count": 66,
      "id": "3db0440a-680e-439a-8bf8-d27bdae4bb19",
      "metadata": {
        "colab": {
          "base_uri": "https://localhost:8080/"
        },
        "id": "3db0440a-680e-439a-8bf8-d27bdae4bb19",
        "outputId": "e1f168a0-4056-4e2e-ae79-ff0d396ce114"
      },
      "outputs": [
        {
          "output_type": "stream",
          "name": "stdout",
          "text": [
            "Valor total: 20\n",
            "Produtos mais vendidos: {'sapato': 7, 'camiseta': 4}\n"
          ]
        }
      ],
      "source": [
        "# Escreva o código aqui\n",
        "registros_vendas = [\n",
        "    {\"produto\": \"sapato\", \"quantidade\": 3, \"valor_unitario\": 5},\n",
        "    {\"produto\": \"sapato\", \"quantidade\": 4, \"valor_unitario\": 5},\n",
        "    {\"produto\": \"sapato\", \"quantidade\": 4, \"valor_unitario\": 5},\n",
        "    {\"produto\": \"calca\", \"quantidade\": 1, \"valor_unitario\": 15},\n",
        "    {\"produto\": \"camiseta\", \"quantidade\": 4, \"valor_unitario\": 5}]\n",
        "\n",
        "vendas_totais = 0\n",
        "\n",
        "produtos_mais_vendidos = {}\n",
        "\n",
        "# Itera entre os registros\n",
        "for registro_venda in registros_vendas:\n",
        "  # Calcula a venda\n",
        "  vendas_totais = vendas_totais = registro_venda[\"quantidade\"] * registro_venda[\"valor_unitario\"]\n",
        "  # Verifica no Dicionário se a chave existe\n",
        "  if registro_venda[\"produto\"] in produtos_mais_vendidos:\n",
        "    # Soma no valor da chave\n",
        "    produtos_mais_vendidos[registro_venda[\"produto\"]] = produtos_mais_vendidos[registro_venda[\"produto\"]] + registro_venda[\"quantidade\"]\n",
        "  else:\n",
        "    # Cria um novo par chave-valor\n",
        "    produtos_mais_vendidos[registro_venda[\"produto\"]] = registro_venda[\"quantidade\"]\n",
        "\n",
        "print(\"Valor total: \" + str(vendas_totais))\n",
        "print(\"Produtos mais vendidos: \" + str(produtos_mais_vendidos))"
      ]
    },
    {
      "cell_type": "code",
      "source": [
        "# Exemplo usando strings\n",
        "\n",
        "# Escreva o código aqui\n",
        "registros_vendas = [\n",
        "    {\"produto\": \"sapato\", \"quantidade\": \"3\", \"valor_unitario\": \"5\"},\n",
        "    {\"produto\": \"sapato\", \"quantidade\": \"4\", \"valor_unitario\": \"5\"},\n",
        "    {\"produto\": \"camiseta\", \"quantidade\": \"4\", \"valor_unitario\": \"5\"}]\n",
        "\n",
        "vendas_totais = 0\n",
        "\n",
        "produtos_mais_vendidos = {}\n",
        "\n",
        "# Itera entre os registros\n",
        "for registro_venda in registros_vendas:\n",
        "  # Calcula a venda convertendo as strings em inteiros\n",
        "  vendas_totais = vendas_totais = int(registro_venda[\"quantidade\"]) * int(registro_venda[\"valor_unitario\"])\n",
        "  # Verifica no Dicionário se a chave existe\n",
        "  if registro_venda[\"produto\"] in produtos_mais_vendidos:\n",
        "    # Soma no valor da chave\n",
        "    produtos_mais_vendidos[registro_venda[\"produto\"]] = produtos_mais_vendidos[registro_venda[\"produto\"]] + int(registro_venda[\"quantidade\"])\n",
        "  else:\n",
        "    # Cria um novo par chave-valor\n",
        "    produtos_mais_vendidos[registro_venda[\"produto\"]] = int(registro_venda[\"quantidade\"])\n",
        "\n",
        "print(\"Valor total: \" + str(vendas_totais))\n",
        "print(\"Produtos mais vendidos: \" + str(produtos_mais_vendidos))"
      ],
      "metadata": {
        "colab": {
          "base_uri": "https://localhost:8080/"
        },
        "id": "jzLsPnzPH-rI",
        "outputId": "5b0cf122-bcf6-420e-91e8-2f2cd9ef7144"
      },
      "id": "jzLsPnzPH-rI",
      "execution_count": 67,
      "outputs": [
        {
          "output_type": "stream",
          "name": "stdout",
          "text": [
            "Valor total: 20\n",
            "Produtos mais vendidos: {'sapato': 7, 'camiseta': 4}\n"
          ]
        }
      ]
    },
    {
      "cell_type": "code",
      "source": [
        "# Exemplo usando Casas Decimais\n",
        "\n",
        "# Escreva o código aqui\n",
        "registros_vendas = [\n",
        "    {\"produto\": \"sapato\", \"quantidade\": 3, \"valor_unitario\": 5.5},\n",
        "    {\"produto\": \"sapato\", \"quantidade\": 3, \"valor_unitario\": 5.8},\n",
        "    {\"produto\": \"camiseta\", \"quantidade\": 3, \"valor_unitario\": 10}]\n",
        "\n",
        "vendas_totais = 0\n",
        "\n",
        "produtos_mais_vendidos = {}\n",
        "\n",
        "# Itera entre os registros\n",
        "for registro_venda in registros_vendas:\n",
        "  # Calcula a venda convertendo as strings em inteiros\n",
        "  vendas_totais = vendas_totais = registro_venda[\"quantidade\"] * float(registro_venda[\"valor_unitario\"])\n",
        "  # Verifica no Dicionário se a chave existe\n",
        "  if registro_venda[\"produto\"] in produtos_mais_vendidos:\n",
        "    # Soma no valor da chave\n",
        "    produtos_mais_vendidos[registro_venda[\"produto\"]] = produtos_mais_vendidos[registro_venda[\"produto\"]] + registro_venda[\"quantidade\"]\n",
        "  else:\n",
        "    # Cria um novo par chave-valor\n",
        "    produtos_mais_vendidos[registro_venda[\"produto\"]] = registro_venda[\"quantidade\"]\n",
        "\n",
        "print(\"Valor total: \" + str(vendas_totais))\n",
        "print(\"Produtos mais vendidos: \" + str(produtos_mais_vendidos))"
      ],
      "metadata": {
        "colab": {
          "base_uri": "https://localhost:8080/"
        },
        "id": "cG16HGysIYSP",
        "outputId": "f12d4e82-3316-463f-c593-49f5a6b06000"
      },
      "id": "cG16HGysIYSP",
      "execution_count": 68,
      "outputs": [
        {
          "output_type": "stream",
          "name": "stdout",
          "text": [
            "Valor total: 30.0\n",
            "Produtos mais vendidos: {'sapato': 6, 'camiseta': 3}\n"
          ]
        }
      ]
    }
  ],
  "metadata": {
    "kernelspec": {
      "display_name": "Python 3 (ipykernel)",
      "language": "python",
      "name": "python3"
    },
    "language_info": {
      "codemirror_mode": {
        "name": "ipython",
        "version": 3
      },
      "file_extension": ".py",
      "mimetype": "text/x-python",
      "name": "python",
      "nbconvert_exporter": "python",
      "pygments_lexer": "ipython3",
      "version": "3.13.7"
    },
    "colab": {
      "provenance": [],
      "toc_visible": true
    }
  },
  "nbformat": 4,
  "nbformat_minor": 5
}