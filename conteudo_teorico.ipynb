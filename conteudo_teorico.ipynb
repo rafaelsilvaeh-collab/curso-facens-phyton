{
  "cells": [
    {
      "cell_type": "markdown",
      "metadata": {
        "id": "2f2cfe90"
      },
      "source": [
        "# História do python\n",
        "\n",
        "Python é uma linguagem de programação de alto nível, interpretada, de script, imperativa, orientada a objetos, funcional, de tipagem dinâmica e forte. Foi criada por Guido van Rossum no final dos anos 80 e lançada pela primeira vez em 1991. Guido van Rossum idealizou o Python com o objetivo de criar uma linguagem que fosse fácil de ler e escrever, com sintaxe clara e concisa, tornando o desenvolvimento de software mais eficiente e menos propenso a erros.\n",
        "\n",
        "Os principais problemas que o Python foi projetado para resolver incluem:\n",
        "\n",
        "*   **Legibilidade do código:** A sintaxe do Python é muito clara, utilizando indentação para definir blocos de código, o que facilita a leitura e manutenção.\n",
        "*   **Simplicidade:** Python reduz a complexidade de tarefas comuns, permitindo que os desenvolvedores se concentrem na lógica do problema em vez de detalhes de implementação de baixo nível.\n",
        "*   **Versatilidade:** Python é uma linguagem multipropósito, utilizada em diversas áreas como desenvolvimento web, análise de dados, inteligência artificial, automação, computação científica e muito mais.\n",
        "*   **Produtividade:** Com sua vasta biblioteca padrão e grande comunidade, Python permite desenvolver aplicações rapidamente.\n",
        "\n",
        "Em resumo, Python foi criado para ser uma linguagem poderosa, mas acessível, que pudesse ser utilizada para resolver uma ampla gama de problemas de programação de forma eficiente e elegante.\n"
      ]
    },
    {
      "cell_type": "markdown",
      "metadata": {
        "id": "b3100ce9"
      },
      "source": [
        "# Algoritmos\n",
        "\n",
        "Em termos simples, um **algoritmo** é um conjunto finito de instruções bem definidas e ordenadas para resolver um problema ou realizar uma tarefa específica. Pense nele como uma receita de bolo: uma sequência de passos que, se seguidos corretamente, levam ao resultado desejado (o bolo pronto!).\n",
        "\n",
        "Algoritmos são a base da programação de computadores. Eles descrevem a lógica por trás de um programa, indicando ao computador exatamente o que fazer e em que ordem para alcançar um objetivo. Um bom algoritmo é eficiente (usa poucos recursos) e correto (sempre produz o resultado esperado).\n"
      ]
    },
    {
      "cell_type": "code",
      "metadata": {
        "colab": {
          "base_uri": "https://localhost:8080/"
        },
        "id": "f446b023",
        "outputId": "d0bfe39b-bc81-4e77-a22f-54afdb595c1e"
      },
      "source": [
        "# Algoritmo para calcular a soma dos números de 1 a N\n",
        "\n",
        "def soma_ate_n(n):\n",
        "  \"\"\"Calcula a soma de todos os números inteiros positivos de 1 até n.\"\"\"\n",
        "  if n < 1:\n",
        "    return \"N deve ser um número inteiro positivo.\"\n",
        "  soma = 0\n",
        "  for i in range(1, n + 1):\n",
        "    soma += i\n",
        "  return soma\n",
        "\n",
        "# Exemplo de uso:\n",
        "N = 10\n",
        "resultado_soma = soma_ate_n(N)\n",
        "print(\"A soma dos números de 1 a \" + str(N) + \" é: \" + str(resultado_soma))\n",
        "\n",
        "N = 5\n",
        "resultado_soma = soma_ate_n(N)\n",
        "print(\"A soma dos números de 1 a \" + str(N) + \" é: \" + str(resultado_soma))"
      ],
      "execution_count": null,
      "outputs": [
        {
          "output_type": "stream",
          "name": "stdout",
          "text": [
            "A soma dos números de 1 a 10 é: 55\n",
            "A soma dos números de 1 a 5 é: 15\n"
          ]
        }
      ]
    },
    {
      "cell_type": "code",
      "metadata": {
        "colab": {
          "base_uri": "https://localhost:8080/"
        },
        "id": "96897e70",
        "outputId": "de69d5f6-7d83-44c4-fdbf-22c14ae03945"
      },
      "source": [
        "# Algoritmo para encontrar o maior número em uma lista\n",
        "\n",
        "def encontrar_maior_numero(lista):\n",
        "  \"\"\"Encontra o maior número em uma lista de números.\"\"\"\n",
        "  if not lista:\n",
        "    return \"A lista não pode estar vazia.\"\n",
        "  maior = lista[0] # Assume que o primeiro elemento é o maior inicialmente\n",
        "  for numero in lista:\n",
        "    if numero > maior:\n",
        "      maior = numero\n",
        "  return maior\n",
        "\n",
        "# Exemplo de uso:\n",
        "numeros = [12, 45, 6, 78, 34, 99, 23]\n",
        "maior_numero = encontrar_maior_numero(numeros)\n",
        "print(\"A lista é: \" + str(numeros))\n",
        "print(\"O maior número na lista é: \" + str(maior_numero))\n",
        "\n",
        "numeros_vazios = []\n",
        "maior_numero = encontrar_maior_numero(numeros_vazios)\n",
        "print(\"A lista é: \" + str(numeros_vazios))\n",
        "print(\"O maior número na lista é: \" + str(maior_numero))"
      ],
      "execution_count": null,
      "outputs": [
        {
          "output_type": "stream",
          "name": "stdout",
          "text": [
            "A lista é: [12, 45, 6, 78, 34, 99, 23]\n",
            "O maior número na lista é: 99\n",
            "A lista é: []\n",
            "O maior número na lista é: A lista não pode estar vazia.\n"
          ]
        }
      ]
    },
    {
      "cell_type": "markdown",
      "metadata": {
        "id": "0300e7b9"
      },
      "source": [
        "# Gerenciamento de Pacotes e Ambientes em Python: PIP, Virtualenv e Anaconda\n",
        "\n",
        "Ao desenvolver em Python, você frequentemente precisará instalar bibliotecas e pacotes adicionais que não vêm com a instalação padrão. Além disso, diferentes projetos podem depender de diferentes versões das mesmas bibliotecas. Para gerenciar essas dependências de forma eficiente, usamos ferramentas como PIP, Virtualenv e Anaconda.\n",
        "\n",
        "## PIP (Package Installer for Python)\n",
        "\n",
        "**O que é:** PIP é o gerenciador de pacotes padrão do Python. Ele permite que você instale, atualize e remova pacotes de software Python (distribuídos no Python Package Index - PyPI).\n",
        "\n",
        "**Função:** Sua principal função é simplificar o processo de adicionar funcionalidades ao seu projeto Python, baixando e instalando bibliotecas de terceiros com um comando simples.\n",
        "\n",
        "**Exemplo de Uso:**\n",
        "\n",
        "Para instalar uma biblioteca popular como o `requests` (usada para fazer requisições HTTP):\n",
        "\n",
        "```bash\n",
        "pip install requests\n",
        "```\n",
        "\n",
        "Para listar os pacotes instalados:\n",
        "\n",
        "```bash\n",
        "pip list\n",
        "```\n",
        "\n",
        "Para desinstalar um pacote:\n",
        "\n",
        "```bash\n",
        "pip uninstall requests\n",
        "```\n",
        "\n",
        "## Virtualenv\n",
        "\n",
        "**O que é:** Virtualenv é uma ferramenta para criar ambientes Python isolados. Cada ambiente virtual é um diretório que contém sua própria instalação Python, seus próprios pacotes PIP e suas próprias configurações.\n",
        "\n",
        "**Por que usar:** A principal razão para usar ambientes virtuais é evitar conflitos de dependência entre diferentes projetos. Se você tem dois projetos que precisam de versões diferentes da mesma biblioteca, você pode criar um ambiente virtual separado para cada projeto, garantindo que as dependências de um não afetem o outro.\n",
        "\n",
        "**Exemplo de Uso:**\n",
        "\n",
        "Para criar um novo ambiente virtual chamado `meu_projeto_env` no diretório atual:\n",
        "\n",
        "```bash\n",
        "virtualenv meu_projeto_env\n",
        "# ou para Python 3:\n",
        "python3 -m venv meu_projeto_env\n",
        "```\n",
        "\n",
        "Para ativar o ambiente virtual (no Linux/macOS):\n",
        "\n",
        "```bash\n",
        "source meu_projeto_env/bin/activate\n",
        "```\n",
        "\n",
        "Para ativar o ambiente virtual (no Windows - Command Prompt):\n",
        "\n",
        "```bash\n",
        "meu_projeto_env\\Scripts\\activate.bat\n",
        "```\n",
        "\n",
        "Para ativar o ambiente virtual (no Windows - PowerShell):\n",
        "\n",
        "```powershell\n",
        "meu_projeto_env\\Scripts\\Activate.ps1\n",
        "```\n",
        "\n",
        "Uma vez ativado, qualquer pacote instalado com `pip install` será instalado apenas dentro deste ambiente virtual.\n",
        "\n",
        "Para desativar o ambiente virtual:\n",
        "\n",
        "```bash\n",
        "deactivate\n",
        "```\n",
        "\n",
        "## Anaconda\n",
        "\n",
        "**O que é:** Anaconda é uma distribuição Python e R de código aberto, amplamente utilizada em ciência de dados, machine learning e análise de dados. Ele inclui o gerenciador de pacotes e ambientes `conda`.\n",
        "\n",
        "**Como se diferencia do PIP e Virtualenv:**\n",
        "\n",
        "*   **Abrangência:** Anaconda não gerencia apenas pacotes Python, mas também pacotes para outras linguagens (como R) e dependências de sistema (como bibliotecas C/C++), o que é crucial para muitos pacotes científicos.\n",
        "*   **Gerenciador de Pacotes (`conda`):** O `conda` é um gerenciador de pacotes mais poderoso que o PIP, capaz de gerenciar pacotes binários e não apenas pacotes Python. Ele também resolve dependências de forma mais robusta.\n",
        "*   **Gerenciador de Ambientes:** O `conda` também gerencia ambientes virtuais de forma semelhante ao Virtualenv, mas com a capacidade adicional de gerenciar dependências de sistema.\n",
        "*   **Pacotes Pré-instalados:** A distribuição Anaconda vem com centenas de pacotes populares de ciência de dados pré-instalados, como NumPy, pandas, scikit-learn, Jupyter Notebook, etc.\n",
        "\n",
        "**Uso:** Anaconda é ideal para quem trabalha extensivamente com ciência de dados, machine learning ou qualquer área que exija muitas bibliotecas externas e gerenciamento complexo de dependências.\n",
        "\n",
        "**Exemplo de Uso com Conda:**\n",
        "\n",
        "Para criar um novo ambiente conda chamado `meu_env_conda` com Python 3.8 e a biblioteca numpy:\n",
        "\n",
        "```bash\n",
        "conda create --name meu_env_conda python=3.8 numpy\n",
        "```\n",
        "\n",
        "Para ativar o ambiente conda:\n",
        "\n",
        "```bash\n",
        "conda activate meu_env_conda\n",
        "```\n",
        "\n",
        "Para instalar um pacote no ambiente ativo:\n",
        "\n",
        "```bash\n",
        "conda install pandas\n",
        "```\n",
        "\n",
        "Para listar os ambientes conda:\n",
        "\n",
        "```bash\n",
        "conda env list\n",
        "```\n",
        "\n",
        "Para desativar o ambiente conda:\n",
        "\n",
        "```bash\n",
        "conda deactivate\n",
        "```\n",
        "\n",
        "Em resumo, PIP é o gerenciador de pacotes padrão, Virtualenv cria ambientes isolados para projetos Python, e Anaconda (com conda) é uma solução mais completa para gerenciamento de pacotes e ambientes, especialmente voltada para o ecossistema de ciência de dados. Embora possam ser usados independentemente, muitas vezes são complementares (por exemplo, usando pip dentro de um ambiente virtual criado com virtualenv).\n"
      ]
    },
    {
      "cell_type": "markdown",
      "metadata": {
        "id": "a7d5dd1e"
      },
      "source": [
        "# Variáveis e Estruturas de Dados em Python\n",
        "\n",
        "\n",
        "\n"
      ]
    },
    {
      "cell_type": "markdown",
      "source": [
        "## Declaração de Variáveis\n",
        "Em Python, declarar uma variável é simplesmente atribuir um valor a um nome. Diferente de muitas outras linguagens de programação, você não precisa declarar explicitamente o tipo de dado da variável antes de usá-la. O Python utiliza tipagem dinâmica, o que significa que o tipo da variável é determinado em tempo de execução, com base no valor que lhe é atribuído."
      ],
      "metadata": {
        "id": "KsnEu8yWu8yK"
      }
    },
    {
      "cell_type": "code",
      "source": [
        "nome = '''loren\n",
        "        ipsum\"''' # Variável do tipo string\n",
        "idade = -30.15555 # Variável do tipo inteiro\n",
        "altura = 1.75 # Variável do tipo float\n",
        "is_estudante = True # Variável do tipo booleano\n",
        "\n",
        "print(\"Nome: \" + nome)\n",
        "print(\"Idade: \" + str(idade))\n",
        "print(\"Altura: \" + str(altura))\n",
        "print(\"É estudante: \" + str(is_estudante))\n",
        "\n",
        "print(f\"Idade: {idade}\")\n",
        "\n",
        "print(\"Nome: \" + nome + \" Idade: \" + str(idade) + \" Altura: \" + str(altura))\n",
        "print(f\"Nome: {nome} Idade: {idade} Altura: {altura}\")"
      ],
      "metadata": {
        "id": "IuQMVaeVvGsN",
        "outputId": "702082a5-3d3f-46cb-82a8-a1bc6a6a83cf",
        "colab": {
          "base_uri": "https://localhost:8080/"
        }
      },
      "execution_count": null,
      "outputs": [
        {
          "output_type": "stream",
          "name": "stdout",
          "text": [
            "Nome: loren \n",
            "        ipsum\"\n",
            "Idade: -30.15555\n",
            "Altura: 1.75\n",
            "É estudante: True\n",
            "Idade: -30.15555\n",
            "Nome: loren \n",
            "        ipsum\" Idade: -30.15555 Altura: 1.75\n",
            "Nome: loren \n",
            "        ipsum\" Idade: -30.15555 Altura: 1.75\n"
          ]
        }
      ]
    },
    {
      "cell_type": "markdown",
      "source": [
        "## Estruturas de Dados Nativas do Python\n",
        "\n",
        "Python oferece várias estruturas de dados nativas que são fundamentais para organizar e manipular coleções de dados."
      ],
      "metadata": {
        "id": "R9Wg9WpnNLPf"
      }
    },
    {
      "cell_type": "markdown",
      "source": [
        "### Listas (Lists)\n",
        "\n",
        "*   **Característica Principal:** Coleção ordenada, mutável e que permite elementos duplicados. As listas são definidas por colchetes `[]`.\n",
        "*   **Uso:** Ideal para coleções de itens onde a ordem importa e os elementos podem mudar.\n"
      ],
      "metadata": {
        "id": "yaNepSIiLhBb"
      }
    },
    {
      "cell_type": "code",
      "source": [
        "frutas = [\"maçã\", \"banana\", \"cereja\", \"maçã\", 1]\n",
        "\n",
        "print(\"Lista de frutas: \" + str(frutas))\n",
        "print(\"Primeira fruta: \" + frutas[0])\n",
        "\n",
        "frutas.append(\"laranja\") # Adicionando um elemento\n",
        "\n",
        "abacaxi = \"abacaxi\"\n",
        "frutas.append(abacaxi)\n",
        "\n",
        "frutas.extend([\"teste\"])\n",
        "frutas.insert(3, \"fruta do conde\")\n",
        "\n",
        "print(\"Lista após adicionar: \" + str(frutas))\n",
        "\n",
        "frutas[1] = \"uva\" # Modificando um elemento\n",
        "\n",
        "frutas[4] = \"uva\" # Modificando um elemento\n",
        "\n",
        "print(\"Lista após modificar: \" + str(frutas))"
      ],
      "metadata": {
        "colab": {
          "base_uri": "https://localhost:8080/"
        },
        "id": "yoXAbnmYL-2u",
        "outputId": "f72f4d50-5172-478d-91d4-e06010901fb9"
      },
      "execution_count": null,
      "outputs": [
        {
          "output_type": "stream",
          "name": "stdout",
          "text": [
            "Lista de frutas: ['maçã', 'banana', 'cereja', 'maçã', 1]\n",
            "Primeira fruta: maçã\n",
            "Lista após adicionar: ['maçã', 'banana', 'cereja', 'fruta do conde', 'maçã', 1, 'laranja', 'abacaxi', 'teste']\n",
            "Lista após modificar: ['maçã', 'uva', 'cereja', 'fruta do conde', 'uva', 1, 'laranja', 'abacaxi', 'teste']\n"
          ]
        }
      ]
    },
    {
      "cell_type": "markdown",
      "source": [
        "### Tuplas (Tuples)\n",
        "\n",
        "*   **Característica Principal:** Coleção ordenada, imutável e que permite elementos duplicados. As tuplas são definidas por parênteses `()`.\n",
        "*   **Uso:** Usada para coleções de itens que não devem ser alterados.\n",
        "python\n"
      ],
      "metadata": {
        "id": "TWnJu1j0LmP6"
      }
    },
    {
      "cell_type": "code",
      "source": [
        "coordenadas = (10.0, 20.0, \"maça\")\n",
        "print(\"Coordenadas: \" + str(coordenadas))\n",
        "print(\"Latitude: \" + str(coordenadas[0]))\n",
        "# coordenadas[0] = 15.0 # Isso geraria um erro, pois tuplas são imutáveis"
      ],
      "metadata": {
        "colab": {
          "base_uri": "https://localhost:8080/"
        },
        "id": "yiwIlg2xMIG8",
        "outputId": "d9546454-4e19-4eb4-cc71-a6c9e2e38b3b"
      },
      "execution_count": null,
      "outputs": [
        {
          "output_type": "stream",
          "name": "stdout",
          "text": [
            "Coordenadas: (10.0, 20.0, 'maça')\n",
            "Latitude: 10.0\n"
          ]
        }
      ]
    },
    {
      "cell_type": "markdown",
      "source": [
        "### Dicionários (Dictionaries)\n",
        "\n",
        "*   **Característica Principal:** Coleção mutável, que armazena dados em pares de chave-valor. As chaves devem ser únicas e imutáveis. Os dicionários são definidos por chaves `{}`.\n",
        "*   **Uso:** Ideal para representar dados estruturados onde cada valor está associado a uma chave única.\n",
        "python\n"
      ],
      "metadata": {
        "id": "dWNrajq3Lr7B"
      }
    },
    {
      "cell_type": "code",
      "source": [
        "pessoa = {\n",
        "    \"nome\": \"Maria\",\n",
        "    \"idade\": 25,\n",
        "    \"cidade\": \"São Paulo\",\n",
        "}\n",
        "print(\"Dicionário pessoa: \" + str(pessoa))\n",
        "print(\"Nome da pessoa: \" + pessoa['nome'])\n",
        "pessoa[\"idade\"] = 26 # Modificando um valor\n",
        "pessoa[\"profissão\"] = \"Engenheira\" # Adicionando um novo par chave-valor\n",
        "print(\"Dicionário após modificações: \" + str(pessoa))"
      ],
      "metadata": {
        "colab": {
          "base_uri": "https://localhost:8080/"
        },
        "id": "7dJlFTElMneZ",
        "outputId": "c23bd55a-0d29-4f50-d489-f21b30f5cc8c"
      },
      "execution_count": null,
      "outputs": [
        {
          "output_type": "stream",
          "name": "stdout",
          "text": [
            "Dicionário pessoa: {'nome': 'Maria', 'idade': 25, 'cidade': 'São Paulo'}\n",
            "Nome da pessoa: Maria\n",
            "Dicionário após modificações: {'nome': 'Maria', 'idade': 26, 'cidade': 'São Paulo', 'profissão': 'Engenheira'}\n"
          ]
        }
      ]
    },
    {
      "cell_type": "markdown",
      "source": [
        "### Conjuntos (Sets)\n",
        "\n",
        "*   **Característica Principal:** Coleção não ordenada, mutável e que **não permite** elementos duplicados. Os conjuntos são definidos por chaves `{}` (assim como dicionários, mas contendo apenas valores, não pares chave-valor) ou pela função `set()`.\n",
        "*   **Uso:** Útil para operações matemáticas de conjunto (união, interseção, diferença) e para remover duplicados de uma coleção.\n",
        "python\n"
      ],
      "metadata": {
        "id": "qvttgSc2Lxje"
      }
    },
    {
      "cell_type": "code",
      "source": [
        "# Exemplo de Conjunto\n",
        "numeros = {1, 2, 3, 2, 1, 4, \"teste\"}\n",
        "print(\"Conjunto de números: \" + str(numeros)) # Note que os duplicados foram removidos\n",
        "\n",
        "numeros.add(4) # Adicionando um elemento\n",
        "print(\"Conjunto após adicionar: \" + str(numeros))\n",
        "numeros.remove(2) # Removendo um elemento\n",
        "print(\"Conjunto após remover: \" + str(numeros))\n",
        "\n",
        "numeros.update([5,6])\n",
        "print(\"Numeros: \" + str(numeros))"
      ],
      "metadata": {
        "colab": {
          "base_uri": "https://localhost:8080/"
        },
        "id": "5y-YyZqBM3Ic",
        "outputId": "00b6e2c0-7fd9-4d28-974d-5183c17eae4c"
      },
      "execution_count": null,
      "outputs": [
        {
          "output_type": "stream",
          "name": "stdout",
          "text": [
            "Conjunto de números: {1, 2, 3, 4, 'teste'}\n",
            "Conjunto após adicionar: {1, 2, 3, 4, 'teste'}\n",
            "Conjunto após remover: {1, 3, 4, 'teste'}\n",
            "Numeros: {1, 3, 4, 5, 6, 'teste'}\n"
          ]
        }
      ]
    },
    {
      "cell_type": "code",
      "source": [
        "# Convertendo uma lista com duplicados para um conjunto para remover duplicados\n",
        "lista_com_duplicados = [10, 20, 30, 20, 10, 40]\n",
        "conjunto_sem_duplicados = set(lista_com_duplicados)\n",
        "print(\"Lista original: \" + str(lista_com_duplicados))\n",
        "print(\"Conjunto sem duplicados: \" + str(conjunto_sem_duplicados))"
      ],
      "metadata": {
        "colab": {
          "base_uri": "https://localhost:8080/"
        },
        "id": "rRBO4ck5M4oV",
        "outputId": "308bcfb0-6774-41c4-ddbd-9100647e02e7"
      },
      "execution_count": null,
      "outputs": [
        {
          "output_type": "stream",
          "name": "stdout",
          "text": [
            "Lista original: [10, 20, 30, 20, 10, 40]\n",
            "Conjunto sem duplicados: {40, 10, 20, 30}\n"
          ]
        }
      ]
    },
    {
      "cell_type": "markdown",
      "metadata": {
        "id": "0c43a3e4"
      },
      "source": [
        "# Estruturas de Controle\n",
        "\n",
        "Em Python, as estruturas de controle nos permitem alterar o fluxo de execução do programa com base em condições ou para repetir blocos de código.\n",
        "\n"
      ]
    },
    {
      "cell_type": "markdown",
      "source": [
        "## Condicionais (if, elif, else)\n",
        "\n",
        "As estruturas condicionais permitem que você execute diferentes blocos de código com base se uma condição é verdadeira ou falsa.\n",
        "\n",
        "*   **`if`**: Executa um bloco de código se a condição for verdadeira.\n",
        "*   **`elif` (else if)**: Verifica uma nova condição se a condição `if` anterior (e quaisquer `elif`'s anteriores) for falsa.\n",
        "*   **`else`**: Executa um bloco de código se nenhuma das condições anteriores (`if` ou `elif`) for verdadeira.\n",
        "\n",
        "\n",
        "\n"
      ],
      "metadata": {
        "id": "c-OKTVUtO1ZS"
      }
    },
    {
      "cell_type": "code",
      "source": [
        "idade = 18\n",
        "\n",
        "if idade < 13:\n",
        "    print(\"Você é uma criança.\")\n",
        "elif idade < 18:\n",
        "    print(\"Você é um adolescente.\")\n",
        "else:\n",
        "    print(\"Você é um adulto.\")"
      ],
      "metadata": {
        "colab": {
          "base_uri": "https://localhost:8080/"
        },
        "id": "7XRr_WhMPE7d",
        "outputId": "85ca7c4a-0180-440d-a3f3-a08d79b618e9"
      },
      "execution_count": null,
      "outputs": [
        {
          "output_type": "stream",
          "name": "stdout",
          "text": [
            "Você é um adulto.\n"
          ]
        }
      ]
    },
    {
      "cell_type": "code",
      "source": [
        "idade = 13\n",
        "\n",
        "if idade >= 18:\n",
        "    print(\"Você é um adulto\")\n",
        "elif idade < 18 and idade > 13:\n",
        "    print(\"Você é um adolescente\")\n",
        "else:\n",
        "    print(\"Você é uma criança\")"
      ],
      "metadata": {
        "colab": {
          "base_uri": "https://localhost:8080/"
        },
        "id": "7GtYoIFeNtGt",
        "outputId": "61c777d8-b474-4b43-fe3b-dc215c957127"
      },
      "execution_count": null,
      "outputs": [
        {
          "output_type": "stream",
          "name": "stdout",
          "text": [
            "Você é um adolescente\n"
          ]
        }
      ]
    },
    {
      "cell_type": "code",
      "source": [
        "idade = 13\n",
        "\n",
        "if idade >= 18:\n",
        "    print(\"Você é um adulto\")\n",
        "elif idade < 18 or idade > 13:\n",
        "    print(\"Você é um adolescente\")\n",
        "else:\n",
        "    print(\"Você é uma criança\")"
      ],
      "metadata": {
        "id": "HoI5ew7hO9yL"
      },
      "execution_count": null,
      "outputs": []
    },
    {
      "cell_type": "code",
      "source": [
        "idade = 13\n",
        "\n",
        "if idade >= 18:\n",
        "    print(\"Você é um adulto\")\n",
        "elif idade < 18 and idade > 11:\n",
        "    if(idade <= 13):\n",
        "        print(\"Você é um pré adolescente\")\n",
        "    else:\n",
        "      print(\"Você é um adolescente\")\n",
        "else:\n",
        "    print(\"Você é uma criança\")"
      ],
      "metadata": {
        "colab": {
          "base_uri": "https://localhost:8080/"
        },
        "id": "6tYOlG8zPAUi",
        "outputId": "06e87de1-f080-4dac-dc56-a13d8da5a206"
      },
      "execution_count": null,
      "outputs": [
        {
          "output_type": "stream",
          "name": "stdout",
          "text": [
            "Você é um pré adolescente\n"
          ]
        }
      ]
    },
    {
      "cell_type": "code",
      "source": [
        "idade = 13\n",
        "\n",
        "if idade >= 18:\n",
        "    print(\"Você é um adulto\")\n",
        "elif idade < 18 and idade > 11 and idade <= 13:\n",
        "    if(idade <= 13):\n",
        "        print(\"Você é um pré adolescente\")\n",
        "    else:\n",
        "      print(\"Você é um adolescente\")\n",
        "else:\n",
        "    print(\"Você é uma criança\")"
      ],
      "metadata": {
        "colab": {
          "base_uri": "https://localhost:8080/"
        },
        "id": "czD14H4MPfRs",
        "outputId": "e54a21d3-1d70-41a8-9c5f-d433e0594c62"
      },
      "execution_count": null,
      "outputs": [
        {
          "output_type": "stream",
          "name": "stdout",
          "text": [
            "Você é um pré adolescente\n"
          ]
        }
      ]
    },
    {
      "cell_type": "code",
      "source": [
        "is_acolescente = True\n",
        "\n",
        "if is_acolescente:\n",
        "  print(\"é adolescente\")\n",
        "else:\n",
        "  print(\"é adulto\")"
      ],
      "metadata": {
        "colab": {
          "base_uri": "https://localhost:8080/"
        },
        "id": "TPSod8MJPv6G",
        "outputId": "6520411c-26bb-48c1-d7ec-6825945ea1de"
      },
      "execution_count": null,
      "outputs": [
        {
          "output_type": "stream",
          "name": "stdout",
          "text": [
            "é adolescente\n"
          ]
        }
      ]
    },
    {
      "cell_type": "code",
      "source": [
        "is_acolescente = True\n",
        "\n",
        "if is_acolescente == True:\n",
        "  print(\"é adolescente\")\n",
        "else:\n",
        "  print(\"é adulto\")"
      ],
      "metadata": {
        "colab": {
          "base_uri": "https://localhost:8080/"
        },
        "id": "iuOzO104QFNn",
        "outputId": "581acaa8-31cc-49c7-81ef-884fa8cabe62"
      },
      "execution_count": null,
      "outputs": [
        {
          "output_type": "stream",
          "name": "stdout",
          "text": [
            "é adolescente\n"
          ]
        }
      ]
    },
    {
      "cell_type": "code",
      "source": [
        "is_acolescente = True\n",
        "\n",
        "if not is_acolescente:\n",
        "  print(\"é adolescente\")\n",
        "else:\n",
        "  print(\"é adulto\")\n",
        "\n",
        "if not (is_acolescente == True):\n",
        "  print(\"é adolescente\")\n",
        "else:\n",
        "  print(\"é adulto\")"
      ],
      "metadata": {
        "colab": {
          "base_uri": "https://localhost:8080/"
        },
        "id": "Vv6laYHXQHzx",
        "outputId": "d330abcb-d5e0-4bd8-8abe-85178e6e750b"
      },
      "execution_count": null,
      "outputs": [
        {
          "output_type": "stream",
          "name": "stdout",
          "text": [
            "é adulto\n",
            "é adulto\n"
          ]
        }
      ]
    },
    {
      "cell_type": "code",
      "source": [
        "idade  = 18\n",
        "\n",
        "if idade != 18:\n",
        "  print(\"não pode se alistar\")\n",
        "else:\n",
        "  print(\"pode se alistar\")"
      ],
      "metadata": {
        "colab": {
          "base_uri": "https://localhost:8080/"
        },
        "id": "hbgQ2sJQQ8Mr",
        "outputId": "535fa91e-a727-40e4-aef4-6bccb640114a"
      },
      "execution_count": null,
      "outputs": [
        {
          "output_type": "stream",
          "name": "stdout",
          "text": [
            "pode se alistar\n"
          ]
        }
      ]
    },
    {
      "cell_type": "markdown",
      "source": [
        "## Estruturas de Repetição (for, while)\n",
        "\n",
        "As estruturas de repetição, ou loops, permitem que você execute um bloco de código múltiplas vezes.\n",
        "\n"
      ],
      "metadata": {
        "id": "l-L8UjMOO43T"
      }
    },
    {
      "cell_type": "markdown",
      "source": [
        "### `for` Loop\n",
        "\n",
        "O `for` loop é usado para iterar sobre uma sequência (como uma lista, tupla, string ou range).\n",
        "\n"
      ],
      "metadata": {
        "id": "YGMw8pRxO7qY"
      }
    },
    {
      "cell_type": "code",
      "source": [
        "frutas = [\"maçã\", \"banana\", \"cereja\", \"abacaxi\", \"uva\"]\n",
        "\n",
        "for fruta in frutas:\n",
        "    print(\"Eu gosto de \" + str(fruta))"
      ],
      "metadata": {
        "colab": {
          "base_uri": "https://localhost:8080/"
        },
        "id": "ncE-dXN-PJMi",
        "outputId": "865355d6-43f9-478c-8f34-cc50d2df2277"
      },
      "execution_count": null,
      "outputs": [
        {
          "output_type": "stream",
          "name": "stdout",
          "text": [
            "Eu gosto de maçã\n",
            "Eu gosto de banana\n",
            "Eu gosto de cereja\n",
            "Eu gosto de abacaxi\n",
            "Eu gosto de uva\n"
          ]
        }
      ]
    },
    {
      "cell_type": "code",
      "source": [
        "frutas = [\"maçã\", \"banana\", \"cereja\"]\n",
        "\n",
        "print(\"Eu gosto de \" + frutas[0])\n",
        "print(\"Eu gosto de \" + frutas[1])\n",
        "print(\"Eu gosto de \" + frutas[2])"
      ],
      "metadata": {
        "colab": {
          "base_uri": "https://localhost:8080/"
        },
        "id": "JJfuOGOsRsMV",
        "outputId": "57cfb50e-7666-47f5-8055-9f88e6cd09ee"
      },
      "execution_count": null,
      "outputs": [
        {
          "output_type": "stream",
          "name": "stdout",
          "text": [
            "Eu gosto de maçã\n",
            "Eu gosto de banana\n",
            "Eu gosto de cereja\n"
          ]
        }
      ]
    },
    {
      "cell_type": "code",
      "source": [
        "# Iterando sobre um range de números\n",
        "for i in range(10): # range(5) gera uma sequência de 0 a 4\n",
        "    print(\"Contagem: \" + str(i))"
      ],
      "metadata": {
        "colab": {
          "base_uri": "https://localhost:8080/"
        },
        "id": "zk4DAYxMPKOF",
        "outputId": "1b5560cd-ed37-465f-8a74-a996efb3a28f"
      },
      "execution_count": null,
      "outputs": [
        {
          "output_type": "stream",
          "name": "stdout",
          "text": [
            "Contagem: 0\n",
            "Contagem: 1\n",
            "Contagem: 2\n",
            "Contagem: 3\n",
            "Contagem: 4\n",
            "Contagem: 5\n",
            "Contagem: 6\n",
            "Contagem: 7\n",
            "Contagem: 8\n",
            "Contagem: 9\n"
          ]
        }
      ]
    },
    {
      "cell_type": "code",
      "source": [
        "frutas = [\"maçã\", \"banana\", \"cereja\", \"abacaxi\", \"uva\"]\n",
        "\n",
        "for i in range(3): # range(5) gera uma sequência de 0 a 4\n",
        "    print(\"Contagem: \" + str(frutas[i]))\n"
      ],
      "metadata": {
        "colab": {
          "base_uri": "https://localhost:8080/"
        },
        "id": "p_8uJrleSebS",
        "outputId": "97f6da42-1d24-4a7c-8e8f-e3e37e87afae"
      },
      "execution_count": null,
      "outputs": [
        {
          "output_type": "stream",
          "name": "stdout",
          "text": [
            "Contagem: maçã\n",
            "Contagem: banana\n",
            "Contagem: cereja\n"
          ]
        }
      ]
    },
    {
      "cell_type": "code",
      "source": [
        "idades = {10, 15, 41, 23, 88}\n",
        "\n",
        "for idade in idades:\n",
        "    if idade < 18:\n",
        "        print(str(idade) + \" Menor de idade\")\n",
        "    else:\n",
        "        print(str(idade) + \" Maior de idade\")"
      ],
      "metadata": {
        "colab": {
          "base_uri": "https://localhost:8080/"
        },
        "id": "S0JBUnNbSyr_",
        "outputId": "d1c644a4-c055-4106-8fe5-9f48cefe08e5"
      },
      "execution_count": null,
      "outputs": [
        {
          "output_type": "stream",
          "name": "stdout",
          "text": [
            "23 Maior de idade\n",
            "88 Maior de idade\n",
            "41 Maior de idade\n",
            "10 Menor de idade\n",
            "15 Menor de idade\n"
          ]
        }
      ]
    },
    {
      "cell_type": "markdown",
      "source": [
        "### `while` Loop\n",
        "\n",
        "O `while` loop executa um bloco de código enquanto uma condição for verdadeira.\n"
      ],
      "metadata": {
        "id": "PAMiZni9O-hj"
      }
    },
    {
      "cell_type": "code",
      "source": [
        "contador = 0\n",
        "\n",
        "while contador < 5:\n",
        "    print(\"Contador: \" + str(contador))\n",
        "    contador += 1 # Incrementa o contador para eventualmente parar o loop"
      ],
      "metadata": {
        "colab": {
          "base_uri": "https://localhost:8080/"
        },
        "id": "Gql7EIYrPPy5",
        "outputId": "762be5bf-ae46-4823-9533-8a6de4e030de"
      },
      "execution_count": null,
      "outputs": [
        {
          "output_type": "stream",
          "name": "stdout",
          "text": [
            "Contador: 0\n",
            "Contador: 1\n",
            "Contador: 2\n",
            "Contador: 3\n",
            "Contador: 4\n"
          ]
        }
      ]
    }
  ],
  "metadata": {
    "colab": {
      "provenance": []
    },
    "kernelspec": {
      "display_name": "Python 3",
      "name": "python3"
    }
  },
  "nbformat": 4,
  "nbformat_minor": 0
}