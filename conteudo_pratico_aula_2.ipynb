{
  "nbformat": 4,
  "nbformat_minor": 0,
  "metadata": {
    "colab": {
      "provenance": []
    },
    "kernelspec": {
      "name": "python3",
      "display_name": "Python 3"
    },
    "language_info": {
      "name": "python"
    }
  },
  "cells": [
    {
      "cell_type": "markdown",
      "metadata": {
        "id": "139fe55a"
      },
      "source": [
        "### Exercício 1: Função Simples - Soma de Dois Números\n",
        "\n",
        "**Objetivo:** Criar uma função que some dois números.\n",
        "\n",
        "**Descrição:** Escreva uma função chamada `somar` que receba dois números como argumentos e retorne a soma deles.\n",
        "\n"
      ]
    },
    {
      "cell_type": "code",
      "metadata": {
        "id": "b5adcf80"
      },
      "source": [
        "# Digite seu código aqui"
      ],
      "execution_count": 6,
      "outputs": []
    },
    {
      "cell_type": "markdown",
      "metadata": {
        "id": "12f0f16d"
      },
      "source": [
        "### Exercício 2: Função com Condicional - Verificar Par ou Ímpar\n",
        "\n",
        "**Objetivo:** Criar uma função que verifique se um número é par ou ímpar.\n",
        "\n",
        "**Descrição:** Escreva uma função chamada `verificar_par_impar` que receba um número inteiro como argumento e retorne a string \"Par\" se o número for par, e \"Ímpar\" se for ímpar.\n",
        "\n",
        "**Exemplo de uso:**"
      ]
    },
    {
      "cell_type": "code",
      "metadata": {
        "id": "1f42ae12"
      },
      "source": [
        "# Digite seu código aqui"
      ],
      "execution_count": 7,
      "outputs": []
    },
    {
      "cell_type": "markdown",
      "metadata": {
        "id": "80cca4d7"
      },
      "source": [
        "### Exercício 3: Leitura de Arquivo - Exibir Conteúdo\n",
        "\n",
        "**Objetivo:** Ler um arquivo de texto e exibir seu conteúdo na tela.\n",
        "\n",
        "**Descrição:** Crie um arquivo de texto simples (por exemplo, `conteudo.txt`). Escreva um código que leia este arquivo linha por linha e imprima cada linha no console.\n",
        "\n",
        "**Conteúdo de exemplo para `conteudo.txt`:**"
      ]
    },
    {
      "cell_type": "code",
      "metadata": {
        "id": "663bdc41"
      },
      "source": [
        "# Digite seu código aqui"
      ],
      "execution_count": 8,
      "outputs": []
    },
    {
      "cell_type": "markdown",
      "metadata": {
        "id": "2eb3efeb"
      },
      "source": [
        "### Exercício 4: Escrita em Arquivo - Diário Simples\n",
        "\n",
        "**Objetivo:** Permitir que o usuário escreva entradas em um arquivo de diário.\n",
        "\n",
        "**Descrição:** Escreva um código que peça ao usuário para digitar uma entrada de diário. A entrada deve ser salva em um arquivo chamado `diario.txt`, adicionando a nova entrada ao final do arquivo a cada vez que o código for executado. Adicione uma quebra de linha após cada entrada.\n",
        "\n",
        "**Formato do arquivo `diario.txt` após algumas entradas:**"
      ]
    },
    {
      "cell_type": "code",
      "metadata": {
        "id": "4b2f409e"
      },
      "source": [
        "# Digite seu código aqui"
      ],
      "execution_count": 9,
      "outputs": []
    },
    {
      "cell_type": "markdown",
      "metadata": {
        "id": "95de3554"
      },
      "source": [
        "### Exercício 5: Combinando Funções e Arquivos - Contador de Linhas de Arquivo\n",
        "\n",
        "**Objetivo:** Criar uma função que conte o número de linhas em um arquivo.\n",
        "\n",
        "**Descrição:** Escreva uma função chamada `contar_linhas` que receba o nome de um arquivo como argumento e retorne o número total de linhas neste arquivo. Use esta função para contar as linhas de um arquivo de exemplo.\n",
        "\n",
        "**Arquivo de exemplo para contar:**"
      ]
    },
    {
      "cell_type": "code",
      "metadata": {
        "id": "0ca4d5f4"
      },
      "source": [
        "# Digite seu código aqui"
      ],
      "execution_count": 10,
      "outputs": []
    }
  ]
}